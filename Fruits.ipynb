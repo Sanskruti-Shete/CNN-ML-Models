{
  "nbformat": 4,
  "nbformat_minor": 0,
  "metadata": {
    "colab": {
      "provenance": [],
      "authorship_tag": "ABX9TyNf2pJ9B63rQZv5hHtZk5Rd",
      "include_colab_link": true
    },
    "kernelspec": {
      "name": "python3",
      "display_name": "Python 3"
    },
    "language_info": {
      "name": "python"
    }
  },
  "cells": [
    {
      "cell_type": "markdown",
      "metadata": {
        "id": "view-in-github",
        "colab_type": "text"
      },
      "source": [
        "<a href=\"https://colab.research.google.com/github/Sanskruti-Shete/CNN-ML-Models/blob/main/Fruits.ipynb\" target=\"_parent\"><img src=\"https://colab.research.google.com/assets/colab-badge.svg\" alt=\"Open In Colab\"/></a>"
      ]
    },
    {
      "cell_type": "code",
      "execution_count": null,
      "metadata": {
        "colab": {
          "base_uri": "https://localhost:8080/"
        },
        "collapsed": true,
        "id": "jyj7mLvG8YRV",
        "outputId": "669853ab-ce77-4c04-e291-6a9c43c4e4a8"
      },
      "outputs": [
        {
          "output_type": "stream",
          "name": "stdout",
          "text": [
            "Collecting opendatasets\n",
            "  Downloading opendatasets-0.1.22-py3-none-any.whl.metadata (9.2 kB)\n",
            "Requirement already satisfied: tqdm in /usr/local/lib/python3.11/dist-packages (from opendatasets) (4.67.1)\n",
            "Requirement already satisfied: kaggle in /usr/local/lib/python3.11/dist-packages (from opendatasets) (1.7.4.5)\n",
            "Requirement already satisfied: click in /usr/local/lib/python3.11/dist-packages (from opendatasets) (8.2.1)\n",
            "Requirement already satisfied: bleach in /usr/local/lib/python3.11/dist-packages (from kaggle->opendatasets) (6.2.0)\n",
            "Requirement already satisfied: certifi>=14.05.14 in /usr/local/lib/python3.11/dist-packages (from kaggle->opendatasets) (2025.6.15)\n",
            "Requirement already satisfied: charset-normalizer in /usr/local/lib/python3.11/dist-packages (from kaggle->opendatasets) (3.4.2)\n",
            "Requirement already satisfied: idna in /usr/local/lib/python3.11/dist-packages (from kaggle->opendatasets) (3.10)\n",
            "Requirement already satisfied: protobuf in /usr/local/lib/python3.11/dist-packages (from kaggle->opendatasets) (5.29.5)\n",
            "Requirement already satisfied: python-dateutil>=2.5.3 in /usr/local/lib/python3.11/dist-packages (from kaggle->opendatasets) (2.9.0.post0)\n",
            "Requirement already satisfied: python-slugify in /usr/local/lib/python3.11/dist-packages (from kaggle->opendatasets) (8.0.4)\n",
            "Requirement already satisfied: requests in /usr/local/lib/python3.11/dist-packages (from kaggle->opendatasets) (2.32.3)\n",
            "Requirement already satisfied: setuptools>=21.0.0 in /usr/local/lib/python3.11/dist-packages (from kaggle->opendatasets) (75.2.0)\n",
            "Requirement already satisfied: six>=1.10 in /usr/local/lib/python3.11/dist-packages (from kaggle->opendatasets) (1.17.0)\n",
            "Requirement already satisfied: text-unidecode in /usr/local/lib/python3.11/dist-packages (from kaggle->opendatasets) (1.3)\n",
            "Requirement already satisfied: urllib3>=1.15.1 in /usr/local/lib/python3.11/dist-packages (from kaggle->opendatasets) (2.4.0)\n",
            "Requirement already satisfied: webencodings in /usr/local/lib/python3.11/dist-packages (from kaggle->opendatasets) (0.5.1)\n",
            "Downloading opendatasets-0.1.22-py3-none-any.whl (15 kB)\n",
            "Installing collected packages: opendatasets\n",
            "Successfully installed opendatasets-0.1.22\n"
          ]
        }
      ],
      "source": [
        "pip install opendatasets"
      ]
    },
    {
      "cell_type": "code",
      "source": [
        "pip install pandas"
      ],
      "metadata": {
        "colab": {
          "base_uri": "https://localhost:8080/"
        },
        "collapsed": true,
        "id": "diaKoPSI8hmV",
        "outputId": "bd72a198-37d6-4886-a69e-353e3c4648c8"
      },
      "execution_count": null,
      "outputs": [
        {
          "output_type": "stream",
          "name": "stdout",
          "text": [
            "Requirement already satisfied: pandas in /usr/local/lib/python3.11/dist-packages (2.2.2)\n",
            "Requirement already satisfied: numpy>=1.23.2 in /usr/local/lib/python3.11/dist-packages (from pandas) (2.0.2)\n",
            "Requirement already satisfied: python-dateutil>=2.8.2 in /usr/local/lib/python3.11/dist-packages (from pandas) (2.9.0.post0)\n",
            "Requirement already satisfied: pytz>=2020.1 in /usr/local/lib/python3.11/dist-packages (from pandas) (2025.2)\n",
            "Requirement already satisfied: tzdata>=2022.7 in /usr/local/lib/python3.11/dist-packages (from pandas) (2025.2)\n",
            "Requirement already satisfied: six>=1.5 in /usr/local/lib/python3.11/dist-packages (from python-dateutil>=2.8.2->pandas) (1.17.0)\n"
          ]
        }
      ]
    },
    {
      "cell_type": "code",
      "source": [
        "import opendatasets as od\n",
        "import pandas\n",
        "\n",
        "od.download(\"https://www.kaggle.com/datasets/kritikseth/fruit-and-vegetable-image-recognition?select=test\")"
      ],
      "metadata": {
        "colab": {
          "base_uri": "https://localhost:8080/"
        },
        "collapsed": true,
        "id": "tBhpbOvA83zW",
        "outputId": "f26df725-abb0-480b-a2d0-4f22a0f448c3"
      },
      "execution_count": null,
      "outputs": [
        {
          "output_type": "stream",
          "name": "stdout",
          "text": [
            "Please provide your Kaggle credentials to download this dataset. Learn more: http://bit.ly/kaggle-creds\n",
            "Your Kaggle username: sanskrutishete\n",
            "Your Kaggle Key: ··········\n",
            "Dataset URL: https://www.kaggle.com/datasets/kritikseth/fruit-and-vegetable-image-recognition\n",
            "Downloading fruit-and-vegetable-image-recognition.zip to ./fruit-and-vegetable-image-recognition\n"
          ]
        },
        {
          "output_type": "stream",
          "name": "stderr",
          "text": [
            "100%|██████████| 1.98G/1.98G [00:15<00:00, 138MB/s] "
          ]
        },
        {
          "output_type": "stream",
          "name": "stdout",
          "text": [
            "\n"
          ]
        },
        {
          "output_type": "stream",
          "name": "stderr",
          "text": [
            "\n"
          ]
        }
      ]
    },
    {
      "cell_type": "markdown",
      "source": [
        "#Importing libraries"
      ],
      "metadata": {
        "id": "agzvU57p-ONw"
      }
    },
    {
      "cell_type": "code",
      "source": [
        "import numpy as np\n",
        "import tensorflow as tf\n",
        "import matplotlib.pyplot as plt"
      ],
      "metadata": {
        "id": "OBtW9DCu9thL"
      },
      "execution_count": null,
      "outputs": []
    },
    {
      "cell_type": "markdown",
      "source": [
        "#Data Preprocessing"
      ],
      "metadata": {
        "id": "X3K4u3dq-VLI"
      }
    },
    {
      "cell_type": "markdown",
      "source": [
        "##Training Image Preprocessing"
      ],
      "metadata": {
        "id": "8DwuM0W9-YSX"
      }
    },
    {
      "cell_type": "code",
      "source": [
        "training_set = tf.keras.utils.image_dataset_from_directory('/content/fruit-and-vegetable-image-recognition/train', labels='inferred', label_mode='categorical', class_names=None, color_mode='rgb', batch_size=32, image_size=(64,64), shuffle=True, seed=None, validation_split=None, subset=None, interpolation='bilinear', follow_links=False, crop_to_aspect_ratio=False)"
      ],
      "metadata": {
        "colab": {
          "base_uri": "https://localhost:8080/"
        },
        "id": "Lf53tKlV-cbg",
        "outputId": "e2846ce4-4aae-4d70-bfe9-9672a6c4d9c9"
      },
      "execution_count": null,
      "outputs": [
        {
          "output_type": "stream",
          "name": "stdout",
          "text": [
            "Found 3115 files belonging to 36 classes.\n"
          ]
        }
      ]
    },
    {
      "cell_type": "markdown",
      "source": [
        "##Validation Image Preprocessing"
      ],
      "metadata": {
        "id": "XPupM8APhUJd"
      }
    },
    {
      "cell_type": "code",
      "source": [
        "validation_set = tf.keras.utils.image_dataset_from_directory('/content/fruit-and-vegetable-image-recognition/validation', labels='inferred', label_mode='categorical', class_names=None, color_mode='rgb', batch_size=32, image_size=(64,64), shuffle=True, seed=None, validation_split=None, subset=None, interpolation='bilinear', follow_links=False, crop_to_aspect_ratio=False)"
      ],
      "metadata": {
        "colab": {
          "base_uri": "https://localhost:8080/"
        },
        "id": "o53F8iG0hblZ",
        "outputId": "0f13e241-1628-4c36-a788-4e283493290d"
      },
      "execution_count": null,
      "outputs": [
        {
          "output_type": "stream",
          "name": "stdout",
          "text": [
            "Found 351 files belonging to 36 classes.\n"
          ]
        }
      ]
    },
    {
      "cell_type": "markdown",
      "source": [
        "#Building the model"
      ],
      "metadata": {
        "id": "GTCux0bjjCsM"
      }
    },
    {
      "cell_type": "code",
      "source": [
        "cnn = tf.keras.models.Sequential()"
      ],
      "metadata": {
        "id": "ckTlVSL_jF8J"
      },
      "execution_count": null,
      "outputs": []
    },
    {
      "cell_type": "markdown",
      "source": [
        "##Building Convolution Layer"
      ],
      "metadata": {
        "id": "1OKmIeUQja7h"
      }
    },
    {
      "cell_type": "code",
      "source": [
        "cnn.add(tf.keras.layers.Conv2D(filters=64, kernel_size=3, activation='relu', input_shape=[64,64,3]))\n",
        "cnn.add(tf.keras.layers.MaxPool2D(pool_size=2, strides=2))"
      ],
      "metadata": {
        "colab": {
          "base_uri": "https://localhost:8080/"
        },
        "id": "_4IxGizejeV9",
        "outputId": "baef944f-fe2e-4406-c774-09ba95092e57"
      },
      "execution_count": null,
      "outputs": [
        {
          "output_type": "stream",
          "name": "stderr",
          "text": [
            "/usr/local/lib/python3.11/dist-packages/keras/src/layers/convolutional/base_conv.py:107: UserWarning: Do not pass an `input_shape`/`input_dim` argument to a layer. When using Sequential models, prefer using an `Input(shape)` object as the first layer in the model instead.\n",
            "  super().__init__(activity_regularizer=activity_regularizer, **kwargs)\n"
          ]
        }
      ]
    },
    {
      "cell_type": "code",
      "source": [
        "cnn.add(tf.keras.layers.Conv2D(filters=64, kernel_size=3, activation='relu'))\n",
        "cnn.add(tf.keras.layers.MaxPool2D(pool_size=2, strides=2))"
      ],
      "metadata": {
        "id": "TjS4rdTWlH1j"
      },
      "execution_count": null,
      "outputs": []
    },
    {
      "cell_type": "code",
      "source": [
        "cnn.add(tf.keras.layers.Dropout(0.5))  #To avoid overfitting"
      ],
      "metadata": {
        "id": "Rs9NT69ilRI3"
      },
      "execution_count": null,
      "outputs": []
    },
    {
      "cell_type": "code",
      "source": [
        "cnn.add(tf.keras.layers.Flatten())"
      ],
      "metadata": {
        "id": "JC5DFtBqoWMW"
      },
      "execution_count": null,
      "outputs": []
    },
    {
      "cell_type": "code",
      "source": [
        "cnn.add(tf.keras.layers.Dense(units=128, activation='relu'))"
      ],
      "metadata": {
        "id": "YeWjxsVQodwf"
      },
      "execution_count": null,
      "outputs": []
    },
    {
      "cell_type": "code",
      "source": [
        "#Output Layer\n",
        "cnn.add(tf.keras.layers.Dense(units=36, activation='softmax'))"
      ],
      "metadata": {
        "id": "voWwvNNEopGp"
      },
      "execution_count": null,
      "outputs": []
    },
    {
      "cell_type": "markdown",
      "source": [
        "#Compiling and Training Phase"
      ],
      "metadata": {
        "id": "A8XjLagLo89D"
      }
    },
    {
      "cell_type": "code",
      "source": [
        "cnn.compile(optimizer='rmsprop', loss='categorical_crossentropy', metrics=['accuracy'])"
      ],
      "metadata": {
        "id": "Np77EeCyo_y8"
      },
      "execution_count": null,
      "outputs": []
    },
    {
      "cell_type": "code",
      "source": [
        "training_history=cnn.fit(x=training_set, validation_data=validation_set, epochs=30)"
      ],
      "metadata": {
        "colab": {
          "base_uri": "https://localhost:8080/"
        },
        "id": "x68MzVC3pPQS",
        "outputId": "3d89e77c-2516-4e9f-f7ff-aba2f9231c2d"
      },
      "execution_count": null,
      "outputs": [
        {
          "output_type": "stream",
          "name": "stdout",
          "text": [
            "Epoch 1/30\n",
            "\u001b[1m98/98\u001b[0m \u001b[32m━━━━━━━━━━━━━━━━━━━━\u001b[0m\u001b[37m\u001b[0m \u001b[1m121s\u001b[0m 1s/step - accuracy: 0.0383 - loss: 48.4940 - val_accuracy: 0.0741 - val_loss: 4.6541\n",
            "Epoch 2/30\n",
            "\u001b[1m98/98\u001b[0m \u001b[32m━━━━━━━━━━━━━━━━━━━━\u001b[0m\u001b[37m\u001b[0m \u001b[1m117s\u001b[0m 970ms/step - accuracy: 0.0612 - loss: 3.9959 - val_accuracy: 0.2023 - val_loss: 3.2589\n",
            "Epoch 3/30\n",
            "\u001b[1m98/98\u001b[0m \u001b[32m━━━━━━━━━━━━━━━━━━━━\u001b[0m\u001b[37m\u001b[0m \u001b[1m142s\u001b[0m 970ms/step - accuracy: 0.0984 - loss: 3.6486 - val_accuracy: 0.1481 - val_loss: 4.5405\n",
            "Epoch 4/30\n",
            "\u001b[1m98/98\u001b[0m \u001b[32m━━━━━━━━━━━━━━━━━━━━\u001b[0m\u001b[37m\u001b[0m \u001b[1m144s\u001b[0m 987ms/step - accuracy: 0.1486 - loss: 3.4725 - val_accuracy: 0.3960 - val_loss: 2.5961\n",
            "Epoch 5/30\n",
            "\u001b[1m98/98\u001b[0m \u001b[32m━━━━━━━━━━━━━━━━━━━━\u001b[0m\u001b[37m\u001b[0m \u001b[1m149s\u001b[0m 1s/step - accuracy: 0.2243 - loss: 3.0861 - val_accuracy: 0.4900 - val_loss: 2.2766\n",
            "Epoch 6/30\n",
            "\u001b[1m98/98\u001b[0m \u001b[32m━━━━━━━━━━━━━━━━━━━━\u001b[0m\u001b[37m\u001b[0m \u001b[1m134s\u001b[0m 980ms/step - accuracy: 0.2582 - loss: 2.9414 - val_accuracy: 0.5185 - val_loss: 2.1967\n",
            "Epoch 7/30\n",
            "\u001b[1m98/98\u001b[0m \u001b[32m━━━━━━━━━━━━━━━━━━━━\u001b[0m\u001b[37m\u001b[0m \u001b[1m95s\u001b[0m 959ms/step - accuracy: 0.3068 - loss: 3.0267 - val_accuracy: 0.4957 - val_loss: 2.0227\n",
            "Epoch 8/30\n",
            "\u001b[1m98/98\u001b[0m \u001b[32m━━━━━━━━━━━━━━━━━━━━\u001b[0m\u001b[37m\u001b[0m \u001b[1m96s\u001b[0m 974ms/step - accuracy: 0.3895 - loss: 2.3499 - val_accuracy: 0.3818 - val_loss: 3.2075\n",
            "Epoch 9/30\n",
            "\u001b[1m98/98\u001b[0m \u001b[32m━━━━━━━━━━━━━━━━━━━━\u001b[0m\u001b[37m\u001b[0m \u001b[1m96s\u001b[0m 980ms/step - accuracy: 0.4146 - loss: 2.4852 - val_accuracy: 0.6638 - val_loss: 1.5522\n",
            "Epoch 10/30\n",
            "\u001b[1m98/98\u001b[0m \u001b[32m━━━━━━━━━━━━━━━━━━━━\u001b[0m\u001b[37m\u001b[0m \u001b[1m141s\u001b[0m 970ms/step - accuracy: 0.4832 - loss: 2.0983 - val_accuracy: 0.6439 - val_loss: 1.8806\n",
            "Epoch 11/30\n",
            "\u001b[1m98/98\u001b[0m \u001b[32m━━━━━━━━━━━━━━━━━━━━\u001b[0m\u001b[37m\u001b[0m \u001b[1m144s\u001b[0m 986ms/step - accuracy: 0.5365 - loss: 1.9055 - val_accuracy: 0.6268 - val_loss: 1.8666\n",
            "Epoch 12/30\n",
            "\u001b[1m98/98\u001b[0m \u001b[32m━━━━━━━━━━━━━━━━━━━━\u001b[0m\u001b[37m\u001b[0m \u001b[1m141s\u001b[0m 968ms/step - accuracy: 0.5765 - loss: 1.7097 - val_accuracy: 0.8034 - val_loss: 1.2711\n",
            "Epoch 13/30\n",
            "\u001b[1m98/98\u001b[0m \u001b[32m━━━━━━━━━━━━━━━━━━━━\u001b[0m\u001b[37m\u001b[0m \u001b[1m143s\u001b[0m 983ms/step - accuracy: 0.5977 - loss: 1.6151 - val_accuracy: 0.5755 - val_loss: 2.9533\n",
            "Epoch 14/30\n",
            "\u001b[1m98/98\u001b[0m \u001b[32m━━━━━━━━━━━━━━━━━━━━\u001b[0m\u001b[37m\u001b[0m \u001b[1m96s\u001b[0m 975ms/step - accuracy: 0.6063 - loss: 1.8675 - val_accuracy: 0.8262 - val_loss: 1.2039\n",
            "Epoch 15/30\n",
            "\u001b[1m98/98\u001b[0m \u001b[32m━━━━━━━━━━━━━━━━━━━━\u001b[0m\u001b[37m\u001b[0m \u001b[1m96s\u001b[0m 976ms/step - accuracy: 0.6671 - loss: 1.3816 - val_accuracy: 0.5983 - val_loss: 3.2148\n",
            "Epoch 16/30\n",
            "\u001b[1m98/98\u001b[0m \u001b[32m━━━━━━━━━━━━━━━━━━━━\u001b[0m\u001b[37m\u001b[0m \u001b[1m144s\u001b[0m 994ms/step - accuracy: 0.7077 - loss: 1.3251 - val_accuracy: 0.8433 - val_loss: 1.0972\n",
            "Epoch 17/30\n",
            "\u001b[1m98/98\u001b[0m \u001b[32m━━━━━━━━━━━━━━━━━━━━\u001b[0m\u001b[37m\u001b[0m \u001b[1m140s\u001b[0m 969ms/step - accuracy: 0.7287 - loss: 1.1395 - val_accuracy: 0.6439 - val_loss: 2.0438\n",
            "Epoch 18/30\n",
            "\u001b[1m98/98\u001b[0m \u001b[32m━━━━━━━━━━━━━━━━━━━━\u001b[0m\u001b[37m\u001b[0m \u001b[1m95s\u001b[0m 966ms/step - accuracy: 0.7159 - loss: 1.3454 - val_accuracy: 0.8803 - val_loss: 1.0747\n",
            "Epoch 19/30\n",
            "\u001b[1m98/98\u001b[0m \u001b[32m━━━━━━━━━━━━━━━━━━━━\u001b[0m\u001b[37m\u001b[0m \u001b[1m142s\u001b[0m 970ms/step - accuracy: 0.7546 - loss: 1.1964 - val_accuracy: 0.8661 - val_loss: 1.0293\n",
            "Epoch 20/30\n",
            "\u001b[1m98/98\u001b[0m \u001b[32m━━━━━━━━━━━━━━━━━━━━\u001b[0m\u001b[37m\u001b[0m \u001b[1m148s\u001b[0m 1s/step - accuracy: 0.7737 - loss: 0.9560 - val_accuracy: 0.8917 - val_loss: 0.8302\n",
            "Epoch 21/30\n",
            "\u001b[1m98/98\u001b[0m \u001b[32m━━━━━━━━━━━━━━━━━━━━\u001b[0m\u001b[37m\u001b[0m \u001b[1m136s\u001b[0m 971ms/step - accuracy: 0.7963 - loss: 0.8870 - val_accuracy: 0.7236 - val_loss: 2.6699\n",
            "Epoch 22/30\n",
            "\u001b[1m98/98\u001b[0m \u001b[32m━━━━━━━━━━━━━━━━━━━━\u001b[0m\u001b[37m\u001b[0m \u001b[1m95s\u001b[0m 972ms/step - accuracy: 0.7703 - loss: 1.3157 - val_accuracy: 0.8860 - val_loss: 1.1159\n",
            "Epoch 23/30\n",
            "\u001b[1m98/98\u001b[0m \u001b[32m━━━━━━━━━━━━━━━━━━━━\u001b[0m\u001b[37m\u001b[0m \u001b[1m142s\u001b[0m 970ms/step - accuracy: 0.7944 - loss: 0.9639 - val_accuracy: 0.9259 - val_loss: 1.0203\n",
            "Epoch 24/30\n",
            "\u001b[1m98/98\u001b[0m \u001b[32m━━━━━━━━━━━━━━━━━━━━\u001b[0m\u001b[37m\u001b[0m \u001b[1m94s\u001b[0m 963ms/step - accuracy: 0.8253 - loss: 0.7965 - val_accuracy: 0.9145 - val_loss: 1.0545\n",
            "Epoch 25/30\n",
            "\u001b[1m98/98\u001b[0m \u001b[32m━━━━━━━━━━━━━━━━━━━━\u001b[0m\u001b[37m\u001b[0m \u001b[1m143s\u001b[0m 969ms/step - accuracy: 0.8139 - loss: 0.9640 - val_accuracy: 0.9231 - val_loss: 1.0936\n",
            "Epoch 26/30\n",
            "\u001b[1m98/98\u001b[0m \u001b[32m━━━━━━━━━━━━━━━━━━━━\u001b[0m\u001b[37m\u001b[0m \u001b[1m95s\u001b[0m 968ms/step - accuracy: 0.8303 - loss: 0.9537 - val_accuracy: 0.9174 - val_loss: 1.4173\n",
            "Epoch 27/30\n",
            "\u001b[1m98/98\u001b[0m \u001b[32m━━━━━━━━━━━━━━━━━━━━\u001b[0m\u001b[37m\u001b[0m \u001b[1m152s\u001b[0m 1s/step - accuracy: 0.8499 - loss: 0.7630 - val_accuracy: 0.8120 - val_loss: 2.6049\n",
            "Epoch 28/30\n",
            "\u001b[1m98/98\u001b[0m \u001b[32m━━━━━━━━━━━━━━━━━━━━\u001b[0m\u001b[37m\u001b[0m \u001b[1m96s\u001b[0m 979ms/step - accuracy: 0.8279 - loss: 1.1208 - val_accuracy: 0.9145 - val_loss: 1.0697\n",
            "Epoch 29/30\n",
            "\u001b[1m98/98\u001b[0m \u001b[32m━━━━━━━━━━━━━━━━━━━━\u001b[0m\u001b[37m\u001b[0m \u001b[1m141s\u001b[0m 971ms/step - accuracy: 0.8354 - loss: 0.8508 - val_accuracy: 0.8177 - val_loss: 2.1931\n",
            "Epoch 30/30\n",
            "\u001b[1m98/98\u001b[0m \u001b[32m━━━━━━━━━━━━━━━━━━━━\u001b[0m\u001b[37m\u001b[0m \u001b[1m141s\u001b[0m 967ms/step - accuracy: 0.8412 - loss: 0.9128 - val_accuracy: 0.7778 - val_loss: 3.1795\n"
          ]
        }
      ]
    },
    {
      "cell_type": "markdown",
      "source": [
        "##Saving Model"
      ],
      "metadata": {
        "id": "Xeopvvp-poay"
      }
    },
    {
      "cell_type": "code",
      "source": [
        "cnn.save('trained_model.h5')"
      ],
      "metadata": {
        "colab": {
          "base_uri": "https://localhost:8080/"
        },
        "id": "rVU1opVNprDe",
        "outputId": "411d2fc7-1686-4afa-a4d8-a5e48836d994"
      },
      "execution_count": null,
      "outputs": [
        {
          "output_type": "stream",
          "name": "stderr",
          "text": [
            "WARNING:absl:You are saving your model as an HDF5 file via `model.save()` or `keras.saving.save_model(model)`. This file format is considered legacy. We recommend using instead the native Keras format, e.g. `model.save('my_model.keras')` or `keras.saving.save_model(model, 'my_model.keras')`. \n"
          ]
        }
      ]
    },
    {
      "cell_type": "code",
      "source": [
        "training_history.history #Return dictionary of history"
      ],
      "metadata": {
        "colab": {
          "base_uri": "https://localhost:8080/"
        },
        "id": "NE3EeDdD4E1-",
        "outputId": "dc873afe-365c-4567-8dde-d6b8cef0d2f8"
      },
      "execution_count": null,
      "outputs": [
        {
          "output_type": "execute_result",
          "data": {
            "text/plain": [
              "{'accuracy': [0.04205457493662834,\n",
              "  0.07158908247947693,\n",
              "  0.11878009885549545,\n",
              "  0.16886034607887268,\n",
              "  0.22857142984867096,\n",
              "  0.26516854763031006,\n",
              "  0.33001604676246643,\n",
              "  0.39871588349342346,\n",
              "  0.4471909999847412,\n",
              "  0.5059390068054199,\n",
              "  0.5544141530990601,\n",
              "  0.5990369319915771,\n",
              "  0.6250401139259338,\n",
              "  0.6417335271835327,\n",
              "  0.680898904800415,\n",
              "  0.715569794178009,\n",
              "  0.7345104217529297,\n",
              "  0.7515248656272888,\n",
              "  0.768539309501648,\n",
              "  0.780738353729248,\n",
              "  0.8003210425376892,\n",
              "  0.7839486598968506,\n",
              "  0.8105939030647278,\n",
              "  0.8157303333282471,\n",
              "  0.8189406394958496,\n",
              "  0.8298555612564087,\n",
              "  0.8500802516937256,\n",
              "  0.8436596989631653,\n",
              "  0.8359550833702087,\n",
              "  0.8606741428375244],\n",
              " 'loss': [14.808405876159668,\n",
              "  3.8716704845428467,\n",
              "  3.640756130218506,\n",
              "  3.4110820293426514,\n",
              "  3.2063071727752686,\n",
              "  3.095242977142334,\n",
              "  2.884007215499878,\n",
              "  2.344928503036499,\n",
              "  2.284198760986328,\n",
              "  2.00384783744812,\n",
              "  1.7854089736938477,\n",
              "  1.6278795003890991,\n",
              "  1.5225160121917725,\n",
              "  1.4918729066848755,\n",
              "  1.3233381509780884,\n",
              "  1.2528783082962036,\n",
              "  1.1385674476623535,\n",
              "  1.1457463502883911,\n",
              "  1.0770658254623413,\n",
              "  1.0279273986816406,\n",
              "  0.8950003385543823,\n",
              "  1.143844485282898,\n",
              "  0.9468398094177246,\n",
              "  0.8866903781890869,\n",
              "  0.9458888173103333,\n",
              "  0.8846533894538879,\n",
              "  0.7668477296829224,\n",
              "  0.8746921420097351,\n",
              "  0.8448125123977661,\n",
              "  0.7820703387260437],\n",
              " 'val_accuracy': [0.07407407462596893,\n",
              "  0.202279195189476,\n",
              "  0.14814814925193787,\n",
              "  0.3960113823413849,\n",
              "  0.4900285005569458,\n",
              "  0.5185185074806213,\n",
              "  0.49572649598121643,\n",
              "  0.3817663788795471,\n",
              "  0.6638176441192627,\n",
              "  0.6438746452331543,\n",
              "  0.62678062915802,\n",
              "  0.8034188151359558,\n",
              "  0.5754985809326172,\n",
              "  0.8262107968330383,\n",
              "  0.5982906222343445,\n",
              "  0.8433048725128174,\n",
              "  0.6438746452331543,\n",
              "  0.8803418874740601,\n",
              "  0.8660968542098999,\n",
              "  0.8917378783226013,\n",
              "  0.7236467003822327,\n",
              "  0.8860399127006531,\n",
              "  0.9259259104728699,\n",
              "  0.9145299196243286,\n",
              "  0.9230769276618958,\n",
              "  0.9173789024353027,\n",
              "  0.811965823173523,\n",
              "  0.9145299196243286,\n",
              "  0.8176637887954712,\n",
              "  0.7777777910232544],\n",
              " 'val_loss': [4.654057502746582,\n",
              "  3.258924961090088,\n",
              "  4.540515422821045,\n",
              "  2.5961389541625977,\n",
              "  2.2766385078430176,\n",
              "  2.1967320442199707,\n",
              "  2.0227015018463135,\n",
              "  3.207503080368042,\n",
              "  1.5521883964538574,\n",
              "  1.8805735111236572,\n",
              "  1.8666260242462158,\n",
              "  1.2710728645324707,\n",
              "  2.9532666206359863,\n",
              "  1.2039282321929932,\n",
              "  3.214813470840454,\n",
              "  1.0972243547439575,\n",
              "  2.043776035308838,\n",
              "  1.0746686458587646,\n",
              "  1.029288411140442,\n",
              "  0.8302446007728577,\n",
              "  2.669914484024048,\n",
              "  1.1158943176269531,\n",
              "  1.0203444957733154,\n",
              "  1.054510474205017,\n",
              "  1.093641996383667,\n",
              "  1.4172834157943726,\n",
              "  2.6048548221588135,\n",
              "  1.0696789026260376,\n",
              "  2.193096399307251,\n",
              "  3.179495096206665]}"
            ]
          },
          "metadata": {},
          "execution_count": 23
        }
      ]
    },
    {
      "cell_type": "code",
      "source": [
        "#Recording History\n",
        "import json\n",
        "with open('training_hist.json', 'w') as f:\n",
        "    json.dump(training_history.history, f)"
      ],
      "metadata": {
        "id": "BuzDDr0dp4CV"
      },
      "execution_count": null,
      "outputs": []
    },
    {
      "cell_type": "code",
      "source": [
        "print(training_history.history.keys())"
      ],
      "metadata": {
        "colab": {
          "base_uri": "https://localhost:8080/"
        },
        "id": "fkN3dAlW4h6_",
        "outputId": "9a2de1bc-38dd-48cb-cbb8-69b44a1a07aa"
      },
      "execution_count": null,
      "outputs": [
        {
          "output_type": "stream",
          "name": "stdout",
          "text": [
            "dict_keys(['accuracy', 'loss', 'val_accuracy', 'val_loss'])\n"
          ]
        }
      ]
    },
    {
      "cell_type": "markdown",
      "source": [
        "##Calculating accuracy of model achieved on Validation Set"
      ],
      "metadata": {
        "id": "sNJHc8HX4nqW"
      }
    },
    {
      "cell_type": "code",
      "source": [
        "print(\"Validation Set Accuracy: {} %\".format(training_history.history['val_accuracy'][-1]*100))"
      ],
      "metadata": {
        "colab": {
          "base_uri": "https://localhost:8080/"
        },
        "id": "lE6CUkg74svx",
        "outputId": "162ec530-851d-4628-8e53-651f60e9848b"
      },
      "execution_count": null,
      "outputs": [
        {
          "output_type": "stream",
          "name": "stdout",
          "text": [
            "Validation Set Accuracy: 77.77777910232544 %\n"
          ]
        }
      ]
    },
    {
      "cell_type": "markdown",
      "source": [
        "#Accuracy Visualization"
      ],
      "metadata": {
        "id": "0c3ho1Hx5ZgF"
      }
    },
    {
      "cell_type": "code",
      "source": [
        "##Training Visualization"
      ],
      "metadata": {
        "id": "wXIcQOaq5cDL"
      },
      "execution_count": null,
      "outputs": []
    },
    {
      "cell_type": "code",
      "source": [
        "epochs = [i for i in range(1,31)]\n",
        "plt.plot(epochs, training_history.history['accuracy'],  color='red')\n",
        "plt.xlabel('No of Epochs')\n",
        "plt.ylabel('Training Accuracy')\n",
        "plt.title('Visualization of Training Accuracy Result')\n",
        "plt.show()"
      ],
      "metadata": {
        "colab": {
          "base_uri": "https://localhost:8080/",
          "height": 472
        },
        "id": "uGcfUNRG5flk",
        "outputId": "01ab1921-533f-4414-ca99-46090597e3ed"
      },
      "execution_count": null,
      "outputs": [
        {
          "output_type": "display_data",
          "data": {
            "text/plain": [
              "<Figure size 640x480 with 1 Axes>"
            ],
            "image/png": "[encoded data removed]"
          },
          "metadata": {}
        }
      ]
    },
    {
      "cell_type": "markdown",
      "source": [
        "##Validation Accuracy"
      ],
      "metadata": {
        "id": "SR_3p6Jy6LHG"
      }
    },
    {
      "cell_type": "code",
      "source": [
        "plt.plot(epochs, training_history.history['val_accuracy'],  color='blue')\n",
        "plt.xlabel('No of Epochs')\n",
        "plt.ylabel('Validation Accuracy')\n",
        "plt.title('Visualization of Validation Accuracy Result')\n",
        "plt.show()"
      ],
      "metadata": {
        "colab": {
          "base_uri": "https://localhost:8080/",
          "height": 472
        },
        "id": "JaYI_gAl6PK2",
        "outputId": "11f98a14-d2c1-4307-8219-218b3afed65d"
      },
      "execution_count": null,
      "outputs": [
        {
          "output_type": "display_data",
          "data": {
            "text/plain": [
              "<Figure size 640x480 with 1 Axes>"
            ],
            "image/png": "[encoded data removed]"
          },
          "metadata": {}
        }
      ]
    }
  ]
}